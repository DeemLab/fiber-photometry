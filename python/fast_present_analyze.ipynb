{
 "cells": [
  {
   "cell_type": "code",
   "execution_count": 1,
   "metadata": {},
   "outputs": [],
   "source": [
    "import numpy as np\n",
    "import pandas as pd\n",
    "import matplotlib.pyplot as plt\n",
    "import scipy\n",
    "\n",
    "import glob\n",
    "import os\n",
    "# os.system('ls')"
   ]
  },
  {
   "cell_type": "markdown",
   "metadata": {},
   "source": [
    "## 1 Check formatting and visualize data "
   ]
  },
  {
   "cell_type": "code",
   "execution_count": 2,
   "metadata": {},
   "outputs": [
    {
     "data": {
      "text/html": [
       "<div>\n",
       "<style scoped>\n",
       "    .dataframe tbody tr th:only-of-type {\n",
       "        vertical-align: middle;\n",
       "    }\n",
       "\n",
       "    .dataframe tbody tr th {\n",
       "        vertical-align: top;\n",
       "    }\n",
       "\n",
       "    .dataframe thead th {\n",
       "        text-align: right;\n",
       "    }\n",
       "</style>\n",
       "<table border=\"1\" class=\"dataframe\">\n",
       "  <thead>\n",
       "    <tr style=\"text-align: right;\">\n",
       "      <th></th>\n",
       "      <th># time</th>\n",
       "      <th>smoothGCAMP</th>\n",
       "      <th>smoothISOS</th>\n",
       "      <th>smoothfitISOS</th>\n",
       "      <th>smoothdFF</th>\n",
       "    </tr>\n",
       "  </thead>\n",
       "  <tbody>\n",
       "    <tr>\n",
       "      <th>0</th>\n",
       "      <td>0.020644</td>\n",
       "      <td>44.223747</td>\n",
       "      <td>35.985706</td>\n",
       "      <td>-7.004587</td>\n",
       "      <td>-731.354116</td>\n",
       "    </tr>\n",
       "    <tr>\n",
       "      <th>1</th>\n",
       "      <td>1.020395</td>\n",
       "      <td>94.602989</td>\n",
       "      <td>78.538265</td>\n",
       "      <td>95.882191</td>\n",
       "      <td>-1.334139</td>\n",
       "    </tr>\n",
       "    <tr>\n",
       "      <th>2</th>\n",
       "      <td>2.020147</td>\n",
       "      <td>100.217934</td>\n",
       "      <td>85.174839</td>\n",
       "      <td>111.928598</td>\n",
       "      <td>-10.462621</td>\n",
       "    </tr>\n",
       "    <tr>\n",
       "      <th>3</th>\n",
       "      <td>3.019899</td>\n",
       "      <td>100.910030</td>\n",
       "      <td>85.213947</td>\n",
       "      <td>112.023157</td>\n",
       "      <td>-9.920384</td>\n",
       "    </tr>\n",
       "    <tr>\n",
       "      <th>4</th>\n",
       "      <td>4.019650</td>\n",
       "      <td>101.247643</td>\n",
       "      <td>85.029293</td>\n",
       "      <td>111.576686</td>\n",
       "      <td>-9.257349</td>\n",
       "    </tr>\n",
       "  </tbody>\n",
       "</table>\n",
       "</div>"
      ],
      "text/plain": [
       "     # time  smoothGCAMP  smoothISOS  smoothfitISOS   smoothdFF\n",
       "0  0.020644    44.223747   35.985706      -7.004587 -731.354116\n",
       "1  1.020395    94.602989   78.538265      95.882191   -1.334139\n",
       "2  2.020147   100.217934   85.174839     111.928598  -10.462621\n",
       "3  3.019899   100.910030   85.213947     112.023157   -9.920384\n",
       "4  4.019650   101.247643   85.029293     111.576686   -9.257349"
      ]
     },
     "execution_count": 2,
     "metadata": {},
     "output_type": "execute_result"
    }
   ],
   "source": [
    "# Check header\n",
    "data = pd.read_csv('smooth_AgRP_DIOFP1_fp_base_chow_210902_2.csv', delimiter=',')\n",
    "data.head()"
   ]
  },
  {
   "cell_type": "code",
   "execution_count": 3,
   "metadata": {},
   "outputs": [
    {
     "data": {
      "text/plain": [
       "Index(['# time', 'smoothGCAMP', 'smoothISOS', 'smoothfitISOS', 'smoothdFF'], dtype='object')"
      ]
     },
     "execution_count": 3,
     "metadata": {},
     "output_type": "execute_result"
    }
   ],
   "source": [
    "# Check for unexpected spaces in column titles\n",
    "data.columns"
   ]
  },
  {
   "cell_type": "code",
   "execution_count": null,
   "metadata": {},
   "outputs": [],
   "source": [
    "eyfp_files = np.sort(glob.glob('*eyfp_*.csv'))\n",
    "chow_files = np.sort(glob.glob('*chow_*.csv'))\n",
    "hfd_files  = np.sort(glob.glob('*hfd_*.csv'))\n",
    "\n",
    "for file in eyfp_files:\n",
    "    file.set_index('# time')\n",
    "    eyfp_mean = file.smoothdFF.mean()\n",
    "    eyfp_std = np.std(file[['smoothdFF']],axis=1)\n",
    "    plt.plot()\n",
    "    \n",
    "    \n",
    "    \n",
    "    \n",
    "    \n",
    "    \n",
    "    \n",
    "    \n",
    "    \n",
    "   \n"
   ]
  },
  {
   "cell_type": "code",
   "execution_count": 4,
   "metadata": {},
   "outputs": [],
   "source": [
    "# sort files by group\n",
    "eyfp = []\n",
    "chow = []\n",
    "hfd = []\n",
    "\n",
    "eyfp_files = np.sort(glob.glob('*eyfp_*.csv'))\n",
    "chow_files = np.sort(glob.glob('*chow_*.csv'))\n",
    "hfd_files  = np.sort(glob.glob('*hfd_*.csv'))\n",
    "\n",
    "for file in eyfp_files:\n",
    "    eyfp.append(pd.read_csv(file))\n",
    "    eyfp[-1] = eyfp[-1].set_index('# time')\n",
    "   \n",
    "for file in chow_files:\n",
    "    chow.append(pd.read_csv(file))\n",
    "    chow[-1] = chow[-1].set_index('# time')\n",
    "  \n",
    "for file in hfd_files:\n",
    "    hfd.append(pd.read_csv(file))\n",
    "    hfd[-1] = hfd[-1].set_index('# time')  "
   ]
  },
  {
   "cell_type": "code",
   "execution_count": 63,
   "metadata": {},
   "outputs": [
    {
     "data": {
      "image/png": "[encoded data removed]",
      "text/plain": [
       "<Figure size 2160x1440 with 4 Axes>"
      ]
     },
     "metadata": {
      "needs_background": "light"
     },
     "output_type": "display_data"
    }
   ],
   "source": [
    "# HFD GROUP: visualize 405 and 465 signals and dFF\n",
    "plt.figure(figsize=(30,20))\n",
    "for i in range(len(hfd)):\n",
    "    plt.subplot(8,8,i+1)\n",
    "    plt.plot(hfd[i].smoothdFF)\n",
    "    # plt.plot(hfd[i]['smoothGCAMP'])\n",
    "    # plt.plot(hfd[i].smoothISOS)\n",
    "#     plt.axis('off')\n",
    "    # plt.ylim(-25,50)\n",
    "    plt.title(hfd_files[i][7:50]) \n",
    "#     ax.axes.xaxis.set_visible(False)\n",
    "plt.savefig(\"figures/raw_data_fp.svg\")\n",
    "\n",
    "plt.tight_layout();  "
   ]
  },
  {
   "cell_type": "code",
   "execution_count": 65,
   "metadata": {},
   "outputs": [
    {
     "data": {
      "image/png": "[encoded data removed]",
      "text/plain": [
       "<Figure size 2160x1440 with 4 Axes>"
      ]
     },
     "metadata": {
      "needs_background": "light"
     },
     "output_type": "display_data"
    }
   ],
   "source": [
    "# CHOW GROUP: visualize 405 and 465 signals and dFF\n",
    " \n",
    "plt.figure(figsize=(30,20))\n",
    "for i in range(len(chow)):\n",
    "    plt.subplot(8,8,i+1)\n",
    "    # print(hfd[i])\n",
    "    plt.plot(chow[i].smoothdFF)\n",
    "    # plt.plot(chow[i].smoothGCAMP)\n",
    "    # plt.plot(chow[i].smoothISOS)\n",
    "#     plt.axis('off')\n",
    "    plt.ylim(-25,50)\n",
    "    # plt.xticks([])\n",
    "    plt.title(chow_files[i][7:50])\n",
    "#     ax.axes.xaxis.set_visible(False)\n",
    "plt.savefig(\"figures/raw_data_fp.svg\")\n",
    "\n",
    "plt.tight_layout();  "
   ]
  },
  {
   "cell_type": "code",
   "execution_count": 14,
   "metadata": {},
   "outputs": [
    {
     "ename": "TypeError",
     "evalue": "list indices must be integers or slices, not list",
     "output_type": "error",
     "traceback": [
      "\u001b[0;31m---------------------------------------------------------------------------\u001b[0m",
      "\u001b[0;31mTypeError\u001b[0m                                 Traceback (most recent call last)",
      "\u001b[0;32m/var/folders/ks/y49f9w8n6lx_4lskh04jyk300000gq/T/ipykernel_44376/1428327074.py\u001b[0m in \u001b[0;36m<module>\u001b[0;34m\u001b[0m\n\u001b[0;32m----> 1\u001b[0;31m \u001b[0meyfp\u001b[0m\u001b[0;34m[\u001b[0m\u001b[0;34m[\u001b[0m\u001b[0;34m'smoothdFF'\u001b[0m\u001b[0;34m]\u001b[0m\u001b[0;34m]\u001b[0m\u001b[0;34m\u001b[0m\u001b[0;34m\u001b[0m\u001b[0m\n\u001b[0m",
      "\u001b[0;31mTypeError\u001b[0m: list indices must be integers or slices, not list"
     ]
    }
   ],
   "source": [
    "eyfp[['smoothdFF']]"
   ]
  },
  {
   "cell_type": "code",
   "execution_count": null,
   "metadata": {},
   "outputs": [],
   "source": [
    "# sort files by group\n",
    "eyfp = []\n",
    "chow = []\n",
    "hfd = []\n",
    "\n",
    "for i in eyfp:\n",
    "    eyfp['smoothdFF'].mean()\n",
    "\n",
    "for file in eyfp_files:\n",
    "    eyfp.append(pd.read_csv(file))\n",
    "    eyfp[-1] = eyfp[-1].set_index('# time')\n",
    "   \n",
    "for file in chow_files:\n",
    "    chow.append(pd.read_csv(file))\n",
    "    chow[-1] = chow[-1].set_index('# time')\n",
    "  \n",
    "for file in hfd_files:\n",
    "    hfd.append(pd.read_csv(file))\n",
    "    hfd[-1] = hfd[-1].set_index('# time')  "
   ]
  },
  {
   "cell_type": "code",
   "execution_count": 84,
   "metadata": {},
   "outputs": [
    {
     "ename": "AttributeError",
     "evalue": "'list' object has no attribute 'mean'",
     "output_type": "error",
     "traceback": [
      "\u001b[0;31m---------------------------------------------------------------------------\u001b[0m",
      "\u001b[0;31mAttributeError\u001b[0m                            Traceback (most recent call last)",
      "\u001b[0;32m/var/folders/ks/y49f9w8n6lx_4lskh04jyk300000gq/T/ipykernel_16820/574766217.py\u001b[0m in \u001b[0;36m<module>\u001b[0;34m\u001b[0m\n\u001b[1;32m     13\u001b[0m     \u001b[0meyfp\u001b[0m\u001b[0;34m.\u001b[0m\u001b[0mappend\u001b[0m\u001b[0;34m(\u001b[0m\u001b[0mpd\u001b[0m\u001b[0;34m.\u001b[0m\u001b[0mread_csv\u001b[0m\u001b[0;34m(\u001b[0m\u001b[0mfile\u001b[0m\u001b[0;34m)\u001b[0m\u001b[0;34m)\u001b[0m\u001b[0;34m\u001b[0m\u001b[0;34m\u001b[0m\u001b[0m\n\u001b[1;32m     14\u001b[0m     \u001b[0meyfp\u001b[0m\u001b[0;34m[\u001b[0m\u001b[0;34m-\u001b[0m\u001b[0;36m1\u001b[0m\u001b[0;34m]\u001b[0m \u001b[0;34m=\u001b[0m \u001b[0meyfp\u001b[0m\u001b[0;34m[\u001b[0m\u001b[0;34m-\u001b[0m\u001b[0;36m1\u001b[0m\u001b[0;34m]\u001b[0m\u001b[0;34m.\u001b[0m\u001b[0mset_index\u001b[0m\u001b[0;34m(\u001b[0m\u001b[0;34m'# time'\u001b[0m\u001b[0;34m)\u001b[0m\u001b[0;34m\u001b[0m\u001b[0;34m\u001b[0m\u001b[0m\n\u001b[0;32m---> 15\u001b[0;31m     \u001b[0mmean\u001b[0m \u001b[0;34m=\u001b[0m \u001b[0meyfp\u001b[0m\u001b[0;34m.\u001b[0m\u001b[0mmean\u001b[0m\u001b[0;34m(\u001b[0m\u001b[0maxis\u001b[0m\u001b[0;34m=\u001b[0m\u001b[0;36m1\u001b[0m\u001b[0;34m)\u001b[0m\u001b[0;34m\u001b[0m\u001b[0;34m\u001b[0m\u001b[0m\n\u001b[0m\u001b[1;32m     16\u001b[0m     \u001b[0msem_plus\u001b[0m \u001b[0;34m=\u001b[0m \u001b[0mmean\u001b[0m \u001b[0;34m+\u001b[0m \u001b[0mscipy\u001b[0m\u001b[0;34m.\u001b[0m\u001b[0mstats\u001b[0m\u001b[0;34m.\u001b[0m\u001b[0msem\u001b[0m\u001b[0;34m(\u001b[0m\u001b[0meyfp\u001b[0m\u001b[0;34m,\u001b[0m \u001b[0maxis\u001b[0m\u001b[0;34m=\u001b[0m\u001b[0;36m1\u001b[0m\u001b[0;34m)\u001b[0m\u001b[0;34m\u001b[0m\u001b[0;34m\u001b[0m\u001b[0m\n\u001b[1;32m     17\u001b[0m     \u001b[0msem_minus\u001b[0m \u001b[0;34m=\u001b[0m \u001b[0mmean\u001b[0m \u001b[0;34m-\u001b[0m \u001b[0mscipy\u001b[0m\u001b[0;34m.\u001b[0m\u001b[0mstats\u001b[0m\u001b[0;34m.\u001b[0m\u001b[0msem\u001b[0m\u001b[0;34m(\u001b[0m\u001b[0meyfp\u001b[0m\u001b[0;34m,\u001b[0m \u001b[0maxis\u001b[0m\u001b[0;34m=\u001b[0m\u001b[0;36m1\u001b[0m\u001b[0;34m)\u001b[0m\u001b[0;34m\u001b[0m\u001b[0;34m\u001b[0m\u001b[0m\n",
      "\u001b[0;31mAttributeError\u001b[0m: 'list' object has no attribute 'mean'"
     ]
    }
   ],
   "source": [
    "# Define some useful functions\n",
    "\n",
    "eyfp = []\n",
    "chow = []\n",
    "hfd = []\n",
    "\n",
    "eyfp_files = np.sort(glob.glob('*eyfp_*.csv'))\n",
    "chow_files = np.sort(glob.glob('*chow_*.csv'))\n",
    "hfd_files  = np.sort(glob.glob('*hfd_*.csv'))\n",
    "\n",
    "for file in eyfp_files:\n",
    "    eyfp.append(pd.read_csv(file))\n",
    "    eyfp[-1] = eyfp[-1].set_index('# time')\n",
    "    mean = eyfp.mean(axis=1)\n",
    "    sem_plus = mean + scipy.stats.sem(eyfp, axis=1)\n",
    "    sem_minus = mean - scipy.stats.sem(eyfp, axis=1)\n",
    "    plt.fill_between(np.arange(mean.shape[0]), sem_plus, sem_minus, alpha=0.5)\n",
    "    plt.plot(mean)\n",
    "\n",
    "# plot\n",
    "fig, ax = plt.subplots()\n",
    "\n",
    "ax.fill_between(chow['#time'], y1, y2, alpha=.5, linewidth=0)\n",
    "\n",
    "ax.plot(chow[i]['# time'], chow[i]['smoothdFF'].mean(), linewidth=2)\n",
    "\n",
    "ax.set(xlim=(0, 8), xticks=np.arange(1, 8),\n",
    "       ylim=(0, 8), yticks=np.arange(1, 8))\n",
    "\n",
    "plt.show()\n",
    "\n",
    "\n",
    "\n",
    "\n",
    "\n",
    "     \n",
    "for file in chow_files:\n",
    "    chow.append(pd.read_csv(file))\n",
    "    chow[-1] = chow[-1].set_index('# time')\n",
    "    mean = chow.mean(axis=1)\n",
    "    sem_plus = mean + scipy.stats.sem(chow, axis=1)\n",
    "    sem_minus = mean - scipy.stats.sem(chow, axis=1)\n",
    "    plt.fill_between(np.arange(mean.shape[0]), sem_plus, sem_minus, alpha=0.5)\n",
    "    plt.plot(mean)\n",
    "  \n",
    "for file in hfd_files:\n",
    "    hfd.append(pd.read_csv(file))\n",
    "    hfd[-1] = hfd[-1].set_index('# time')  \n",
    "    mean = hfd.mean(axis=1)\n",
    "    sem_plus = mean + scipy.stats.sem(hfd, axis=1)\n",
    "    sem_minus = mean - scipy.stats.sem(hfd, axis=1)\n",
    "    plt.fill_between(np.arange(mean.shape[0]), sem_plus, sem_minus, alpha=0.5)\n",
    "    plt.plot(mean)\n"
   ]
  },
  {
   "cell_type": "code",
   "execution_count": 11,
   "metadata": {},
   "outputs": [
    {
     "name": "stderr",
     "output_type": "stream",
     "text": [
      "/Users/jenniferdeem/opt/anaconda3/envs/py_37/lib/python3.7/site-packages/numpy/core/_methods.py:163: VisibleDeprecationWarning: Creating an ndarray from ragged nested sequences (which is a list-or-tuple of lists-or-tuples-or ndarrays with different lengths or shapes) is deprecated. If you meant to do this, you must specify 'dtype=object' when creating the ndarray.\n",
      "  arr = asanyarray(a)\n",
      "/Users/jenniferdeem/opt/anaconda3/envs/py_37/lib/python3.7/site-packages/numpy/core/_methods.py:197: VisibleDeprecationWarning: Creating an ndarray from ragged nested sequences (which is a list-or-tuple of lists-or-tuples-or ndarrays with different lengths or shapes) is deprecated. If you meant to do this, you must specify 'dtype=object' when creating the ndarray.\n",
      "  arr = asanyarray(a)\n"
     ]
    },
    {
     "ename": "TypeError",
     "evalue": "loop of ufunc does not support argument 0 of type DataFrame which has no callable conjugate method",
     "output_type": "error",
     "traceback": [
      "\u001b[0;31m---------------------------------------------------------------------------\u001b[0m",
      "\u001b[0;31mAttributeError\u001b[0m                            Traceback (most recent call last)",
      "\u001b[0;32m~/opt/anaconda3/envs/py_37/lib/python3.7/site-packages/pandas/core/generic.py\u001b[0m in \u001b[0;36m__getattr__\u001b[0;34m(self, name)\u001b[0m\n\u001b[1;32m   5273\u001b[0m                 \u001b[0;32mreturn\u001b[0m \u001b[0mself\u001b[0m\u001b[0;34m[\u001b[0m\u001b[0mname\u001b[0m\u001b[0;34m]\u001b[0m\u001b[0;34m\u001b[0m\u001b[0;34m\u001b[0m\u001b[0m\n\u001b[0;32m-> 5274\u001b[0;31m             \u001b[0;32mreturn\u001b[0m \u001b[0mobject\u001b[0m\u001b[0;34m.\u001b[0m\u001b[0m__getattribute__\u001b[0m\u001b[0;34m(\u001b[0m\u001b[0mself\u001b[0m\u001b[0;34m,\u001b[0m \u001b[0mname\u001b[0m\u001b[0;34m)\u001b[0m\u001b[0;34m\u001b[0m\u001b[0;34m\u001b[0m\u001b[0m\n\u001b[0m\u001b[1;32m   5275\u001b[0m \u001b[0;34m\u001b[0m\u001b[0m\n",
      "\u001b[0;31mAttributeError\u001b[0m: 'DataFrame' object has no attribute 'conjugate'",
      "\nThe above exception was the direct cause of the following exception:\n",
      "\u001b[0;31mTypeError\u001b[0m                                 Traceback (most recent call last)",
      "\u001b[0;32m/var/folders/ks/y49f9w8n6lx_4lskh04jyk300000gq/T/ipykernel_44376/559596451.py\u001b[0m in \u001b[0;36m<module>\u001b[0;34m\u001b[0m\n\u001b[1;32m      4\u001b[0m \u001b[0;34m\u001b[0m\u001b[0m\n\u001b[1;32m      5\u001b[0m \u001b[0mmean_chow\u001b[0m \u001b[0;34m=\u001b[0m \u001b[0mnp\u001b[0m\u001b[0;34m.\u001b[0m\u001b[0mmean\u001b[0m\u001b[0;34m(\u001b[0m\u001b[0mchow\u001b[0m\u001b[0;34m)\u001b[0m\u001b[0;34m\u001b[0m\u001b[0;34m\u001b[0m\u001b[0m\n\u001b[0;32m----> 6\u001b[0;31m \u001b[0mstd_chow\u001b[0m \u001b[0;34m=\u001b[0m \u001b[0mnp\u001b[0m\u001b[0;34m.\u001b[0m\u001b[0mstd\u001b[0m\u001b[0;34m(\u001b[0m\u001b[0mchow\u001b[0m\u001b[0;34m)\u001b[0m\u001b[0;34m\u001b[0m\u001b[0;34m\u001b[0m\u001b[0m\n\u001b[0m\u001b[1;32m      7\u001b[0m \u001b[0;34m\u001b[0m\u001b[0m\n\u001b[1;32m      8\u001b[0m \u001b[0;31m# mean_hfd =\u001b[0m\u001b[0;34m\u001b[0m\u001b[0;34m\u001b[0m\u001b[0;34m\u001b[0m\u001b[0m\n",
      "\u001b[0;32m<__array_function__ internals>\u001b[0m in \u001b[0;36mstd\u001b[0;34m(*args, **kwargs)\u001b[0m\n",
      "\u001b[0;32m~/opt/anaconda3/envs/py_37/lib/python3.7/site-packages/numpy/core/fromnumeric.py\u001b[0m in \u001b[0;36mstd\u001b[0;34m(a, axis, dtype, out, ddof, keepdims, where)\u001b[0m\n\u001b[1;32m   3580\u001b[0m \u001b[0;34m\u001b[0m\u001b[0m\n\u001b[1;32m   3581\u001b[0m     return _methods._std(a, axis=axis, dtype=dtype, out=out, ddof=ddof,\n\u001b[0;32m-> 3582\u001b[0;31m                          **kwargs)\n\u001b[0m\u001b[1;32m   3583\u001b[0m \u001b[0;34m\u001b[0m\u001b[0m\n\u001b[1;32m   3584\u001b[0m \u001b[0;34m\u001b[0m\u001b[0m\n",
      "\u001b[0;32m~/opt/anaconda3/envs/py_37/lib/python3.7/site-packages/numpy/core/_methods.py\u001b[0m in \u001b[0;36m_std\u001b[0;34m(a, axis, dtype, out, ddof, keepdims, where)\u001b[0m\n\u001b[1;32m    261\u001b[0m          where=True):\n\u001b[1;32m    262\u001b[0m     ret = _var(a, axis=axis, dtype=dtype, out=out, ddof=ddof,\n\u001b[0;32m--> 263\u001b[0;31m                keepdims=keepdims, where=where)\n\u001b[0m\u001b[1;32m    264\u001b[0m \u001b[0;34m\u001b[0m\u001b[0m\n\u001b[1;32m    265\u001b[0m     \u001b[0;32mif\u001b[0m \u001b[0misinstance\u001b[0m\u001b[0;34m(\u001b[0m\u001b[0mret\u001b[0m\u001b[0;34m,\u001b[0m \u001b[0mmu\u001b[0m\u001b[0;34m.\u001b[0m\u001b[0mndarray\u001b[0m\u001b[0;34m)\u001b[0m\u001b[0;34m:\u001b[0m\u001b[0;34m\u001b[0m\u001b[0;34m\u001b[0m\u001b[0m\n",
      "\u001b[0;32m~/opt/anaconda3/envs/py_37/lib/python3.7/site-packages/numpy/core/_methods.py\u001b[0m in \u001b[0;36m_var\u001b[0;34m(a, axis, dtype, out, ddof, keepdims, where)\u001b[0m\n\u001b[1;32m    240\u001b[0m     \u001b[0;31m# numbers and complex types with non-native byteorder\u001b[0m\u001b[0;34m\u001b[0m\u001b[0;34m\u001b[0m\u001b[0;34m\u001b[0m\u001b[0m\n\u001b[1;32m    241\u001b[0m     \u001b[0;32melse\u001b[0m\u001b[0;34m:\u001b[0m\u001b[0;34m\u001b[0m\u001b[0;34m\u001b[0m\u001b[0m\n\u001b[0;32m--> 242\u001b[0;31m         \u001b[0mx\u001b[0m \u001b[0;34m=\u001b[0m \u001b[0mum\u001b[0m\u001b[0;34m.\u001b[0m\u001b[0mmultiply\u001b[0m\u001b[0;34m(\u001b[0m\u001b[0mx\u001b[0m\u001b[0;34m,\u001b[0m \u001b[0mum\u001b[0m\u001b[0;34m.\u001b[0m\u001b[0mconjugate\u001b[0m\u001b[0;34m(\u001b[0m\u001b[0mx\u001b[0m\u001b[0;34m)\u001b[0m\u001b[0;34m,\u001b[0m \u001b[0mout\u001b[0m\u001b[0;34m=\u001b[0m\u001b[0mx\u001b[0m\u001b[0;34m)\u001b[0m\u001b[0;34m.\u001b[0m\u001b[0mreal\u001b[0m\u001b[0;34m\u001b[0m\u001b[0;34m\u001b[0m\u001b[0m\n\u001b[0m\u001b[1;32m    243\u001b[0m \u001b[0;34m\u001b[0m\u001b[0m\n\u001b[1;32m    244\u001b[0m     \u001b[0mret\u001b[0m \u001b[0;34m=\u001b[0m \u001b[0mumr_sum\u001b[0m\u001b[0;34m(\u001b[0m\u001b[0mx\u001b[0m\u001b[0;34m,\u001b[0m \u001b[0maxis\u001b[0m\u001b[0;34m,\u001b[0m \u001b[0mdtype\u001b[0m\u001b[0;34m,\u001b[0m \u001b[0mout\u001b[0m\u001b[0;34m,\u001b[0m \u001b[0mkeepdims\u001b[0m\u001b[0;34m=\u001b[0m\u001b[0mkeepdims\u001b[0m\u001b[0;34m,\u001b[0m \u001b[0mwhere\u001b[0m\u001b[0;34m=\u001b[0m\u001b[0mwhere\u001b[0m\u001b[0;34m)\u001b[0m\u001b[0;34m\u001b[0m\u001b[0;34m\u001b[0m\u001b[0m\n",
      "\u001b[0;31mTypeError\u001b[0m: loop of ufunc does not support argument 0 of type DataFrame which has no callable conjugate method"
     ]
    }
   ],
   "source": [
    "import seaborn as sns\n",
    "\n",
    "sns.set()\n",
    "\n",
    "mean_chow = np.mean(chow)\n",
    "std_chow = np.std(chow)\n",
    "\n",
    "# mean_hfd = \n",
    "# std_hfd = \n",
    "\n",
    "# mean_eyfp = \n",
    "# std_eyfp = \n",
    "\n",
    "x = np.arange(len(chow))\n",
    "# plt.plot(x, mean_eyfp, 'g-', label='eyfp')\n",
    "# plt.fill_between(x, mean_eyfp - std_eyfp, mean_eyfp + std_eyfp, color='g', alpha=0.2)\n",
    "\n",
    "plt.plot(x, mean_chow, 'r--', label='chow')\n",
    "plt.fill_between(x, mean_chow - std_chow, mean_chow + std_chow, color='r', alpha=0.2)\n",
    "plt.xticks[[]]\n",
    "\n",
    "# plt.plot(x, mean_hfd, 'b--', label='hfd')\n",
    "# plt.fill_between(x, mean_hfd - std_hfd, mean_hfd + std_hfd, color='b', alpha=0.2)\n",
    "\n",
    "plt.legend(title='baseline food intake response')\n",
    "plt.show()"
   ]
  },
  {
   "cell_type": "code",
   "execution_count": 73,
   "metadata": {},
   "outputs": [],
   "source": [
    "# for each group, align dFF from i+10 to 2000, calculate mean, sem, plot\n",
    "\n",
    "def visualize_group(group):\n",
    "    if group == eyfp:\n",
    "        plt.figure(figsize=(30,20))\n",
    "        for i in range(len(eyfp)):\n",
    "            plt.plot(eyfp[i]['smoothdFF'][10:2000].mean())\n",
    "            plt.xticks([])\n",
    "            plt.ylim(-30,30)\n",
    "        return eyfp.head(5)   \n",
    "    \n",
    "    if group == hfd:\n",
    "        plt.figure(figsize=(30,20))\n",
    "        hfd_ave = pd.append(pd.DataFrame(data=hfd_files,index=hfd[i]['smoothdFF']))\n",
    "        return hfd_ave.mean()                                \n",
    "    if group == chow:\n",
    "        plt.figure(figsize=(30,20))\n",
    "        chow_ave = pd.append(pd.DataFrame(data=chow_files,index=chow[i]['smoothdFF']))\n",
    "        return chow_ave.mean()                                 \n",
    "  "
   ]
  },
  {
   "cell_type": "code",
   "execution_count": 77,
   "metadata": {},
   "outputs": [
    {
     "data": {
      "image/png": "[encoded data removed]",
      "text/plain": [
       "<Figure size 288x288 with 1 Axes>"
      ]
     },
     "metadata": {
      "needs_background": "light"
     },
     "output_type": "display_data"
    }
   ],
   "source": [
    "\n",
    "plt.figure(figsize=(4,4))\n",
    "for i in range(len(eyfp)):\n",
    "    plt.plot(eyfp[i]['smoothdFF'].mean())\n",
    "    plt.xticks([])\n",
    "    plt.ylim(-30,30)\n",
    "# return eyfp.head(5)   \n",
    "    "
   ]
  },
  {
   "cell_type": "code",
   "execution_count": 10,
   "metadata": {},
   "outputs": [
    {
     "ename": "TypeError",
     "evalue": "list indices must be integers or slices, not list",
     "output_type": "error",
     "traceback": [
      "\u001b[0;31m---------------------------------------------------------------------------\u001b[0m",
      "\u001b[0;31mTypeError\u001b[0m                                 Traceback (most recent call last)",
      "\u001b[0;32m/var/folders/ks/y49f9w8n6lx_4lskh04jyk300000gq/T/ipykernel_44376/148406906.py\u001b[0m in \u001b[0;36m<module>\u001b[0;34m\u001b[0m\n\u001b[1;32m      1\u001b[0m \u001b[0;32mfor\u001b[0m \u001b[0mfile\u001b[0m \u001b[0;32min\u001b[0m \u001b[0meyfp\u001b[0m\u001b[0;34m:\u001b[0m\u001b[0;34m\u001b[0m\u001b[0;34m\u001b[0m\u001b[0m\n\u001b[1;32m      2\u001b[0m     \u001b[0meyfp_ave\u001b[0m \u001b[0;34m=\u001b[0m \u001b[0;34m[\u001b[0m\u001b[0;34m]\u001b[0m\u001b[0;34m\u001b[0m\u001b[0;34m\u001b[0m\u001b[0m\n\u001b[0;32m----> 3\u001b[0;31m     \u001b[0meyfp_ave\u001b[0m \u001b[0;34m=\u001b[0m \u001b[0mnp\u001b[0m\u001b[0;34m.\u001b[0m\u001b[0mappend\u001b[0m\u001b[0;34m(\u001b[0m\u001b[0mpd\u001b[0m\u001b[0;34m.\u001b[0m\u001b[0mDataFrame\u001b[0m\u001b[0;34m(\u001b[0m\u001b[0mdata\u001b[0m\u001b[0;34m=\u001b[0m\u001b[0meyfp_files\u001b[0m\u001b[0;34m,\u001b[0m\u001b[0mindex\u001b[0m\u001b[0;34m=\u001b[0m\u001b[0meyfp\u001b[0m\u001b[0;34m[\u001b[0m\u001b[0;34m[\u001b[0m\u001b[0;34m'# time'\u001b[0m\u001b[0;34m]\u001b[0m\u001b[0;34m]\u001b[0m\u001b[0;34m)\u001b[0m\u001b[0;34m)\u001b[0m\u001b[0;34m\u001b[0m\u001b[0;34m\u001b[0m\u001b[0m\n\u001b[0m\u001b[1;32m      4\u001b[0m     \u001b[0mplt\u001b[0m\u001b[0;34m.\u001b[0m\u001b[0mplot\u001b[0m\u001b[0;34m(\u001b[0m\u001b[0meyfp\u001b[0m\u001b[0;34m[\u001b[0m\u001b[0mi\u001b[0m\u001b[0;34m]\u001b[0m\u001b[0;34m[\u001b[0m\u001b[0;34m'smoothdFF'\u001b[0m\u001b[0;34m]\u001b[0m\u001b[0;34m.\u001b[0m\u001b[0mmean\u001b[0m\u001b[0;34m(\u001b[0m\u001b[0;34m)\u001b[0m\u001b[0;34m)\u001b[0m\u001b[0;34m\u001b[0m\u001b[0;34m\u001b[0m\u001b[0m\n\u001b[1;32m      5\u001b[0m     \u001b[0mplt\u001b[0m\u001b[0;34m.\u001b[0m\u001b[0mxticks\u001b[0m\u001b[0;34m(\u001b[0m\u001b[0;34m[\u001b[0m\u001b[0;34m]\u001b[0m\u001b[0;34m)\u001b[0m\u001b[0;34m\u001b[0m\u001b[0;34m\u001b[0m\u001b[0m\n",
      "\u001b[0;31mTypeError\u001b[0m: list indices must be integers or slices, not list"
     ]
    }
   ],
   "source": [
    "for file in eyfp:\n",
    "    eyfp_ave = []\n",
    "    eyfp_ave = np.append(pd.DataFrame(data=eyfp_files,index=eyfp[['# time']]))\n",
    "    plt.plot(eyfp[i]['smoothdFF'].mean())\n",
    "    plt.xticks([]) \n",
    "    "
   ]
  },
  {
   "cell_type": "code",
   "execution_count": null,
   "metadata": {},
   "outputs": [],
   "source": [
    "\n",
    "# slice from index 10 to index 2000 (approx 2000 seconds)\n",
    "\n",
    "# Using a similar logic to my iterrows example above, I looped through df_events, created before and after time window limits and used these to filter df_stream grouped by a given time frequency. Then recalculated the index using time delta indexes to get a \"distance from event\" index. This was then appended to a list that was then combined using pd.concat with an axis of 1. Example below:\n",
    "collect_list = []\n",
    "for i in df_events[[\"DateTime\"]].iterrows():\n",
    "    date_time = i[1].values[0]\n",
    "    before = date_time - pd.Timedelta(window)\n",
    "    after = date_time + pd.Timedelta(window)\n",
    "\n",
    "    df_stream_window = (\n",
    "        df_stream.streamEventId.groupby(pd.Grouper(freq=freq))\n",
    "        .count()\n",
    "        .loc[before:after]\n",
    "        .reset_index()\n",
    "        .rename(columns={\"streamEventId\": \"stream events\"})\n",
    "    )\n",
    "\n",
    "    df_stream_window = df_stream_window.set_index(\n",
    "        pd.to_timedelta((df_stream_window.DateTime - pd.to_datetime(date_time)))\n",
    "        / np.timedelta64(\"1\", \"m\")\n",
    "    )\n",
    "\n",
    "    collect_list.append(df_stream_window)\n",
    "\n",
    "df_collect = pd.concat(collect_list, axis=1)\n",
    "\n",
    "# This can then be used in plotting with estimator=\"mean\" in Seaborn:\n",
    "ax = sns.lineplot(data=df_collect, estimator=\"mean\")\n",
    "plt.axvline(0, color=\"lightcoral\")\n",
    "ax.set_xlabel(\"Time before / after event (min)\")\n",
    "ax.set_ylabel(\"# Stream Events\")\n",
    "\n",
    "\n",
    "\n",
    "\n",
    "\n",
    "\n",
    "\n",
    "## data generation - cumulative analysis over time\n",
    "def get_data(max_val, max_time=1000):\n",
    "    times = pd.DataFrame(np.random.uniform(0,max_time,size=50), columns=['# time'])\n",
    "    vals = pd.DataFrame(np.random.randint(0,max_val,size=100), columns=['smoothdFF'])\n",
    "    # note that we set time as index of the returned data\n",
    "    df =  pd.concat([times, vals], axis = 1).dropna().set_index('# time').sort_index()\n",
    "    df['cumulative'] = df.vals.cumsum()\n",
    "    return df\n",
    "\n",
    "df1,df2,df3 = (df for df in map(get_data, [10000, 13000, 4000]))\n",
    "dfs = (df1, df2, df3)\n",
    "\n",
    "# rename column for later plotting\n",
    "for i,df in zip(range(3),dfs):\n",
    "    df.rename(columns={'cumulative':f'cummulative_{i}'}, inplace=True)\n",
    "\n",
    "# concatenate the dataframes with common time index\n",
    "df_all = pd.concat(dfs,sort=False).sort_index()\n",
    "\n",
    "# interpolate each cumulative column linearly\n",
    "df_all.interpolate(inplace=True)\n",
    "\n",
    "# plot graphs\n",
    "mean_val = df_all.iloc[:,1:].mean(axis=1)\n",
    "std_val = df_all.iloc[:,1:].std(axis=1)\n",
    "min_val = mean_val - 2*std_val\n",
    "max_val = mean_val + 2*std_val\n",
    "\n",
    "fig, ax = plt.subplots(1,1,figsize=(16,9))\n",
    "df_all.iloc[:,1:4].plot(ax=ax)\n",
    "\n",
    "plt.plot(df_all.index, mean_val, c='purple')\n",
    "plt.fill_between(df_all.index, min_val, max_val, color='blue', alpha=.2)\n",
    "plt.show()\n",
    "and we get:"
   ]
  }
 ],
 "metadata": {
  "interpreter": {
   "hash": "79cd416cbdba95ba477b5f17d580acf605cba77ddd6f56956a9bed7af2f96e90"
  },
  "kernelspec": {
   "display_name": "Python 3.7.13 ('py_37')",
   "language": "python",
   "name": "python3"
  },
  "language_info": {
   "codemirror_mode": {
    "name": "ipython",
    "version": 3
   },
   "file_extension": ".py",
   "mimetype": "text/x-python",
   "name": "python",
   "nbconvert_exporter": "python",
   "pygments_lexer": "ipython3",
   "version": "3.7.13"
  },
  "orig_nbformat": 4
 },
 "nbformat": 4,
 "nbformat_minor": 2
}
